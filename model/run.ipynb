{
 "cells": [
  {
   "cell_type": "code",
   "execution_count": 1,
   "metadata": {},
   "outputs": [],
   "source": [
    "import json\n",
    "import pandas as pd\n",
    "import numpy as np\n",
    "\n",
    "import torch\n",
    "from torch import nn, optim\n",
    "from torch.utils.data import DataLoader\n",
    "from dataset import ProgramDataset\n",
    "from architectures import NonLinearModel, CossineSimilarityBlock, MetaModel\n",
    "from utils import RMSELoss, train, predict"
   ]
  },
  {
   "cell_type": "code",
   "execution_count": 2,
   "metadata": {},
   "outputs": [],
   "source": [
    "TOPICS = ['Books and Literature', 'Environment', 'Careers', 'Healthy Living', 'Shopping', 'Automotive', 'Sensitive Topics', 'Politics', 'Events & Attractions', 'Maps & Navigation', 'Personal Celebrations & Life Events', 'Style & Fashion', 'Sports', 'Business and Finance', 'War and Conflicts', 'Hobbies & Interests', 'Education', 'Food & Drink', 'Real Estate', 'Crime, Law & Justice', 'Communication', 'Family and Relationships', 'Disasters', 'Home & Garden', 'Video Gaming', 'Pets', 'Medical Health', 'Entertainment', 'Fine Art', 'Religion & Spirituality', 'Travel']\n",
    "\n",
    "personas_vectors = []\n",
    "programs_vectors = []\n",
    "\n",
    "personas_info = {}\n",
    "programs_info = {}"
   ]
  },
  {
   "cell_type": "code",
   "execution_count": 3,
   "metadata": {},
   "outputs": [],
   "source": [
    "# load personas interest rates by topic\n",
    "with open('../data/personas/personas.json', 'rb') as f:\n",
    "    personas = json.load(f)\n",
    "\n",
    "    for p in personas:\n",
    "        persona_vector = [0] * len(TOPICS)\n",
    "        \n",
    "        for topic in p[\"interests\"]:\n",
    "            persona_vector[TOPICS.index(topic)] = p[\"interests\"][topic]\n",
    "        \n",
    "        personas_vectors.append({\"name\": p[\"name\"], \"vector\": persona_vector})\n",
    "\n",
    "        personas_info[p[\"name\"]] = p[\"interests\"]"
   ]
  },
  {
   "cell_type": "code",
   "execution_count": 4,
   "metadata": {},
   "outputs": [],
   "source": [
    "# load programs interest rates by topic\n",
    "with open('../data/programs/programs_info.json', 'rb') as f:\n",
    "    programs = json.load(f)\n",
    "\n",
    "    for p in programs:\n",
    "        program_vector = [0] * len(TOPICS)\n",
    "        \n",
    "        for topic in p[\"Topics\"]:\n",
    "            program_vector[TOPICS.index(topic[\"description\"])] = topic[\"percentage\"]\n",
    "\n",
    "        programs_vectors.append({\"name\": p[\"Title\"], \"vector\": program_vector})\n",
    "\n",
    "        programs_info[p[\"Title\"]] = p"
   ]
  },
  {
   "cell_type": "code",
   "execution_count": 5,
   "metadata": {},
   "outputs": [],
   "source": [
    "# compute the similarity between each persona and each program\n",
    "similarity_matrix = []\n",
    "\n",
    "for p in personas_vectors:\n",
    "    row = {}\n",
    "\n",
    "    for pr in programs_vectors:\n",
    "        similarity = np.dot(p[\"vector\"], pr[\"vector\"]) / (np.linalg.norm(p[\"vector\"]) * np.linalg.norm(pr[\"vector\"])) # cosine similarity\n",
    "\n",
    "        row[pr[\"name\"]] = similarity\n",
    "\n",
    "    similarity_matrix.append(row)\n",
    "\n",
    "df = pd.DataFrame(similarity_matrix, index=[p[\"name\"] for p in personas_vectors])"
   ]
  },
  {
   "cell_type": "code",
   "execution_count": 6,
   "metadata": {},
   "outputs": [
    {
     "name": "stderr",
     "output_type": "stream",
     "text": [
      "/home/rafael/miniconda3/envs/altice/lib/python3.12/site-packages/torch/cuda/__init__.py:128: UserWarning: CUDA initialization: CUDA unknown error - this may be due to an incorrectly set up environment, e.g. changing env variable CUDA_VISIBLE_DEVICES after program start. Setting the available devices to be zero. (Triggered internally at ../c10/cuda/CUDAFunctions.cpp:108.)\n",
      "  return torch._C._cuda_getDeviceCount() > 0\n"
     ]
    }
   ],
   "source": [
    "# constants for training\n",
    "batch_size = 1 # equivalent to stochastic gradient descent\n",
    "num_users = len(personas_vectors)\n",
    "num_items = len(programs_vectors)\n",
    "embedding_dim = len(TOPICS) # reduce to create a latent space\n",
    "learning_rate = 1e-3\n",
    "num_epochs = 10\n",
    "\n",
    "# load dataset with similarities\n",
    "dataset = ProgramDataset(df)\n",
    "loader = DataLoader(dataset, batch_size=batch_size, shuffle=True)\n",
    "device = torch.device(\"cuda\" if torch.cuda.is_available() else \"cpu\")\n",
    "\n",
    "cos_block = CossineSimilarityBlock(device, num_users, num_items, embedding_dim, personas_vectors, programs_vectors).to(device)\n",
    "model = MetaModel(device, [cos_block]).to(device)\n",
    "\n",
    "# optimizer = optim.Adam(cos_block.parameters(), lr=learning_rate)\n",
    "criterion = nn.MSELoss()\n",
    "metric = RMSELoss()"
   ]
  },
  {
   "cell_type": "code",
   "execution_count": 7,
   "metadata": {},
   "outputs": [
    {
     "name": "stderr",
     "output_type": "stream",
     "text": [
      "Training: 100%|██████████| 84/84 [00:00<00:00, 4345.20it/s]\n"
     ]
    },
    {
     "data": {
      "text/plain": [
       "0.0"
      ]
     },
     "execution_count": 7,
     "metadata": {},
     "output_type": "execute_result"
    }
   ],
   "source": [
    "# train cos_block\n",
    "train(cos_block, loader, criterion, device, has_grad=False)"
   ]
  },
  {
   "cell_type": "code",
   "execution_count": 8,
   "metadata": {},
   "outputs": [
    {
     "data": {
      "text/plain": [
       "[('Jornal da Tarde', 0.9264534115791321),\n",
       " ('Telejornal', 0.8481944799423218),\n",
       " ('Terra Europa T1 - Ep. 48', 0.8219571113586426),\n",
       " ('Bom Dia Portugal', 0.7570829391479492),\n",
       " ('Portugal em Direto', 0.2942794859409332),\n",
       " ('Joker T8 - Ep. 70', 0.059705331921577454),\n",
       " ('Outras Histórias T6 - Ep. 12', 0.009785204194486141),\n",
       " ('Praça da Alegria', 0.0048783915117383),\n",
       " ('Amor Sem Igual - Ep. 33', 0.004161442164331675),\n",
       " ('Cá Por Casa com Herman José T11 - Ep. 2', 0.0),\n",
       " ('O Preço Certo', 0.0),\n",
       " ('A Nossa Tarde', 0.0),\n",
       " ('Amor Sem Igual - Ep. 34', 0.0),\n",
       " ('Televendas', 0.0)]"
      ]
     },
     "execution_count": 8,
     "metadata": {},
     "output_type": "execute_result"
    }
   ],
   "source": [
    "# predict for \"David\"\n",
    "david_id = df.index.get_loc(\"David\")\n",
    "\n",
    "# (item_id, predicted_similarity)\n",
    "predictions = [(program, predict(cos_block, david_id, df.columns.get_loc(program), device)) for program in df.columns]\n",
    "predictions.sort(key=lambda x: x[1], reverse=True)\n",
    "predictions"
   ]
  },
  {
   "cell_type": "code",
   "execution_count": 9,
   "metadata": {},
   "outputs": [
    {
     "name": "stderr",
     "output_type": "stream",
     "text": [
      "Training:   0%|          | 0/84 [00:00<?, ?it/s]/home/rafael/miniconda3/envs/altice/lib/python3.12/site-packages/torch/nn/modules/loss.py:538: UserWarning: Using a target size (torch.Size([1])) that is different to the input size (torch.Size([])). This will likely lead to incorrect results due to broadcasting. Please ensure they have the same size.\n",
      "  return F.mse_loss(input, target, reduction=self.reduction)\n",
      "Training: 100%|██████████| 84/84 [00:00<00:00, 639.20it/s]\n"
     ]
    },
    {
     "data": {
      "text/plain": [
       "0.045673059627727663"
      ]
     },
     "execution_count": 9,
     "metadata": {},
     "output_type": "execute_result"
    }
   ],
   "source": [
    "# train meta model\n",
    "optimizer = optim.Adam(model.parameters(), lr=learning_rate)\n",
    "train(model, loader, criterion, device, optimizer=optimizer, has_grad=True)"
   ]
  },
  {
   "cell_type": "code",
   "execution_count": 10,
   "metadata": {},
   "outputs": [
    {
     "data": {
      "text/plain": [
       "[('Jornal da Tarde', 0.5943422317504883),\n",
       " ('Telejornal', 0.5620748400688171),\n",
       " ('Terra Europa T1 - Ep. 48', 0.5510947108268738),\n",
       " ('Bom Dia Portugal', 0.5218514800071716),\n",
       " ('Portugal em Direto', 0.22486676275730133),\n",
       " ('Joker T8 - Ep. 70', 0.05861091613769531),\n",
       " ('Outras Histórias T6 - Ep. 12', 0.02604398876428604),\n",
       " ('Praça da Alegria', 0.02291850745677948),\n",
       " ('Amor Sem Igual - Ep. 33', 0.02246183156967163),\n",
       " ('Cá Por Casa com Herman José T11 - Ep. 2', 0.019862361252307892),\n",
       " ('O Preço Certo', 0.019862361252307892),\n",
       " ('A Nossa Tarde', 0.019862361252307892),\n",
       " ('Amor Sem Igual - Ep. 34', 0.019862361252307892),\n",
       " ('Televendas', 0.019862361252307892)]"
      ]
     },
     "execution_count": 10,
     "metadata": {},
     "output_type": "execute_result"
    }
   ],
   "source": [
    "predictions = [(program, predict(model, david_id, df.columns.get_loc(program), device)) for program in df.columns]\n",
    "predictions.sort(key=lambda x: x[1], reverse=True)\n",
    "predictions"
   ]
  }
 ],
 "metadata": {
  "kernelspec": {
   "display_name": "altice",
   "language": "python",
   "name": "python3"
  },
  "language_info": {
   "codemirror_mode": {
    "name": "ipython",
    "version": 3
   },
   "file_extension": ".py",
   "mimetype": "text/x-python",
   "name": "python",
   "nbconvert_exporter": "python",
   "pygments_lexer": "ipython3",
   "version": "3.12.6"
  }
 },
 "nbformat": 4,
 "nbformat_minor": 2
}
