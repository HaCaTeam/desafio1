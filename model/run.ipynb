{
 "cells": [
  {
   "cell_type": "code",
   "execution_count": 1,
   "metadata": {},
   "outputs": [],
   "source": [
    "import json\n",
    "import pandas as pd\n",
    "import numpy as np\n",
    "\n",
    "import torch\n",
    "from torch import nn, optim\n",
    "from torch.utils.data import DataLoader\n",
    "from dataset import ProgramDataset\n",
    "from architectures import NonLinearModel, CossineSimilarityBlock, MetaModel\n",
    "from utils import RMSELoss, train, predict"
   ]
  },
  {
   "cell_type": "code",
   "execution_count": 2,
   "metadata": {},
   "outputs": [],
   "source": [
    "TOPICS = ['Entertainment', 'Pop Culture', 'Personal Finance', 'Business and Finance', 'Education', 'Sensitive Topics', 'Video Gaming', 'Shopping', 'Pets', 'Automotive', 'Personal Celebrations & Life Events', 'Environment', 'War and Conflicts', 'Style & Fashion', 'Events & Attractions', 'Communication', 'Religion & Spirituality', 'Politics', 'Movies & Music', 'Food & Drink', 'Healthy Living', 'Real Estate', 'Home & Garden', 'Hobbies & Interests', 'Family and Relationships', 'Productivity', 'Careers', 'Books and Literature', 'Maps & Navigation', 'Travel', 'Crime, Law & Justice', 'Sports', 'Disasters', 'Fine Art', 'Medical Health']\n",
    "personas_vectors = []\n",
    "programs_vectors = []\n",
    "\n",
    "personas_info = {}\n",
    "programs_info = {}"
   ]
  },
  {
   "cell_type": "code",
   "execution_count": 3,
   "metadata": {},
   "outputs": [],
   "source": [
    "# load personas interest rates by topic\n",
    "with open('../data/personas/personas.json', 'rb') as f:\n",
    "    personas = json.load(f)\n",
    "\n",
    "    for p in personas:\n",
    "        persona_vector = [0] * len(TOPICS)\n",
    "        \n",
    "        for topic in p[\"interests\"]:\n",
    "            persona_vector[TOPICS.index(topic)] = p[\"interests\"][topic]\n",
    "        \n",
    "        personas_vectors.append({\"name\": p[\"name\"], \"vector\": persona_vector})\n",
    "\n",
    "        personas_info[p[\"name\"]] = p[\"interests\"]"
   ]
  },
  {
   "cell_type": "code",
   "execution_count": 4,
   "metadata": {},
   "outputs": [],
   "source": [
    "# load programs interest rates by topic\n",
    "with open('../data/programs/programs_info.json', 'rb') as f:\n",
    "    programs = json.load(f)\n",
    "\n",
    "    for p in programs:\n",
    "        program_vector = [0] * len(TOPICS)\n",
    "        \n",
    "        for topic in p[\"Topics\"]:\n",
    "            program_vector[TOPICS.index(topic[\"description\"])] = topic[\"percentage\"]\n",
    "\n",
    "        programs_vectors.append({\"name\": p[\"Title\"], \"vector\": program_vector})\n",
    "\n",
    "        programs_info[p[\"Title\"]] = p"
   ]
  },
  {
   "cell_type": "code",
   "execution_count": 5,
   "metadata": {},
   "outputs": [],
   "source": [
    "# compute the similarity between each persona and each program\n",
    "similarity_matrix = []\n",
    "\n",
    "for p in personas_vectors:\n",
    "    row = {}\n",
    "\n",
    "    for pr in programs_vectors:\n",
    "        similarity = np.dot(p[\"vector\"], pr[\"vector\"]) / (np.linalg.norm(p[\"vector\"]) * np.linalg.norm(pr[\"vector\"])) # cosine similarity\n",
    "\n",
    "        row[pr[\"name\"]] = similarity\n",
    "\n",
    "    similarity_matrix.append(row)\n",
    "\n",
    "df = pd.DataFrame(similarity_matrix, index=[p[\"name\"] for p in personas_vectors])"
   ]
  },
  {
   "cell_type": "code",
   "execution_count": 6,
   "metadata": {},
   "outputs": [],
   "source": [
    "# constants for training\n",
    "batch_size = 1 # equivalent to stochastic gradient descent\n",
    "num_users = len(personas_vectors)\n",
    "num_items = len(programs_vectors)\n",
    "embedding_dim = len(TOPICS) # reduce to create a latent space\n",
    "learning_rate = 1e-3\n",
    "num_epochs = 10\n",
    "\n",
    "# load dataset with similarities\n",
    "dataset = ProgramDataset(df)\n",
    "loader = DataLoader(dataset, batch_size=batch_size, shuffle=True)\n",
    "device = torch.device(\"cuda\" if torch.cuda.is_available() else \"cpu\")\n",
    "\n",
    "cos_block = CossineSimilarityBlock(device, num_users, num_items, embedding_dim, personas_vectors, programs_vectors).to(device)\n",
    "model = MetaModel(device, [cos_block]).to(device)\n",
    "\n",
    "# optimizer = optim.Adam(cos_block.parameters(), lr=learning_rate)\n",
    "criterion = nn.MSELoss()\n",
    "metric = RMSELoss()"
   ]
  },
  {
   "cell_type": "code",
   "execution_count": 7,
   "metadata": {},
   "outputs": [
    {
     "name": "stderr",
     "output_type": "stream",
     "text": [
      "Training: 100%|██████████| 282/282 [00:00<00:00, 10748.96it/s]\n"
     ]
    },
    {
     "data": {
      "text/plain": [
       "0.0"
      ]
     },
     "execution_count": 7,
     "metadata": {},
     "output_type": "execute_result"
    }
   ],
   "source": [
    "# train cos_block\n",
    "train(cos_block, loader, criterion, device, has_grad=False)"
   ]
  },
  {
   "cell_type": "code",
   "execution_count": 11,
   "metadata": {},
   "outputs": [
    {
     "data": {
      "text/plain": [
       "[('Joker T8 - Ep. 70', 0.45547938346862793),\n",
       " ('A Nossa Tarde', 0.3947761654853821),\n",
       " ('Eucaristia Dominical', 0.39351749420166016),\n",
       " ('Hora Da Sorte - Lotaria Popular - Ep. 40', 0.3868962824344635),\n",
       " ('Cá Por Casa com Herman José T11 - Ep. 2', 0.3803417682647705),\n",
       " ('Joker T8 - Ep. 71', 0.37670841813087463),\n",
       " ('Dillaz: Festival F 2024', 0.37382060289382935),\n",
       " ('The Voice Portugal - Os Apurados T12 - Ep. 1', 0.36253830790519714),\n",
       " ('O Preço Certo', 0.36206498742103577),\n",
       " ('Amor Sem Igual - Ep. 32', 0.3578277826309204),\n",
       " ('Delfins - 40 Anos', 0.3540067672729492),\n",
       " ('Nunca Nada Aconteceu', 0.346403032541275),\n",
       " ('Hora Da Sorte - Lotaria Clássica - Ep. 40', 0.34089580178260803),\n",
       " ('Terra Europa T1 - Ep. 48', 0.3274747133255005),\n",
       " ('Outras Histórias T6 - Ep. 12', 0.31296253204345703),\n",
       " ('Alguém Tem De O Fazer T1 - Ep. 12', 0.25431835651397705),\n",
       " ('É Ou Não É? - O Grande Debate', 0.24792912602424622),\n",
       " ('Praça da Alegria', 0.23324181139469147),\n",
       " ('Aqui Portugal: Pombal (Tarde)', 0.2255329042673111),\n",
       " ('Amor Sem Igual - Ep. 35', 0.2150581330060959),\n",
       " ('Do Algarve À Lapónia - Ep. 12', 0.18496109545230865),\n",
       " ('Janela Indiscreta T16 - Ep. 40', 0.17026492953300476),\n",
       " ('The Voice Portugal T12 - Ep. 2', 0.12478592246770859),\n",
       " ('O Conto Do Nadador', 0.12439514696598053),\n",
       " ('Janela Indiscreta T16 - Ep. 39', 0.12263543903827667),\n",
       " ('Joker T8 - Ep. 68', 0.11939878016710281),\n",
       " ('Portugal em Direto', 0.11081350594758987),\n",
       " ('Jornal da Tarde', 0.07182548940181732),\n",
       " ('Todas as Palavras', 0.06581662595272064),\n",
       " ('Televendas', 0.06375990062952042),\n",
       " ('Outras Histórias T6 - Ep. 13', 0.056235555559396744),\n",
       " ('Zig Zag', 0.050705697387456894),\n",
       " ('Amor Sem Igual - Ep. 34', 0.022525973618030548),\n",
       " ('Bom Dia Portugal', 0.013283565640449524),\n",
       " ('Caixa Alfama: Concerto de Buba Espinho', 0.009663351811468601),\n",
       " ('Bom Dia Portugal Fim de Semana', 0.008232242427766323),\n",
       " ('Aqui Portugal: Pombal (Manhã)', 0.007714815437793732),\n",
       " ('Grandiosa Enciclopédia Do Ludopédio T10 - Ep. 4', 0.00643309997394681),\n",
       " ('A Essência T10 - Ep. 24', 0.0030921660363674164),\n",
       " ('Linha da Frente: Serviço Internacional de Saúde', 0.0),\n",
       " ('Telejornal', 0.0),\n",
       " ('Amor Sem Igual - Ep. 33', 0.0),\n",
       " ('Joker T8 - Ep. 69', 0.0),\n",
       " ('Mesa Portuguesa... Com Estrelas Com Certeza - Ep. 10', 0.0),\n",
       " ('Nena E Joana Almeirante - Hipódromo Manuel Possolo Em Cascais', 0.0),\n",
       " ('Alguém Tem De O Fazer T1 - Ep. 11', 0.0),\n",
       " ('Eu Ainda Acredito', 0.0)]"
      ]
     },
     "execution_count": 11,
     "metadata": {},
     "output_type": "execute_result"
    }
   ],
   "source": [
    "# predict for \"David\"\n",
    "user_id = df.index.get_loc(\"Liam\")\n",
    "\n",
    "# (item_id, predicted_similarity)\n",
    "predictions = [(program, predict(cos_block, user_id, df.columns.get_loc(program), device)) for program in df.columns]\n",
    "predictions.sort(key=lambda x: x[1], reverse=True)\n",
    "\n",
    "programs_obj = [programs_info[program] for program, _ in predictions]\n",
    "\n",
    "data_obj = {\n",
    "    \"preferences\": personas_info[\"Liam\"],\n",
    "    \"programs\": programs_obj\n",
    "}\n",
    "\n",
    "with open('../data/liam_example.json', 'w') as f:\n",
    "    json.dump(data_obj, f, indent=4)\n",
    "\n",
    "predictions"
   ]
  },
  {
   "cell_type": "code",
   "execution_count": 9,
   "metadata": {},
   "outputs": [
    {
     "name": "stderr",
     "output_type": "stream",
     "text": [
      "/opt/miniconda3/envs/main/lib/python3.12/site-packages/tqdm/auto.py:21: TqdmWarning: IProgress not found. Please update jupyter and ipywidgets. See https://ipywidgets.readthedocs.io/en/stable/user_install.html\n",
      "  from .autonotebook import tqdm as notebook_tqdm\n",
      "Training:   0%|          | 0/282 [00:00<?, ?it/s]/opt/miniconda3/envs/main/lib/python3.12/site-packages/torch/nn/modules/loss.py:535: UserWarning: Using a target size (torch.Size([1])) that is different to the input size (torch.Size([])). This will likely lead to incorrect results due to broadcasting. Please ensure they have the same size.\n",
      "  return F.mse_loss(input, target, reduction=self.reduction)\n",
      "Training: 100%|██████████| 282/282 [00:00<00:00, 1718.39it/s]\n"
     ]
    },
    {
     "data": {
      "text/plain": [
       "0.03412113970567915"
      ]
     },
     "execution_count": 9,
     "metadata": {},
     "output_type": "execute_result"
    }
   ],
   "source": [
    "# train meta model\n",
    "optimizer = optim.Adam(model.parameters(), lr=learning_rate)\n",
    "train(model, loader, criterion, device, optimizer=optimizer, has_grad=True)"
   ]
  },
  {
   "cell_type": "code",
   "execution_count": 10,
   "metadata": {},
   "outputs": [
    {
     "data": {
      "text/plain": [
       "[('Telejornal', 0.24969489872455597),\n",
       " ('Mesa Portuguesa... Com Estrelas Com Certeza - Ep. 10', 0.24618609249591827),\n",
       " ('Eu Ainda Acredito', 0.24028588831424713),\n",
       " ('Bom Dia Portugal', 0.23890580236911774),\n",
       " ('Amor Sem Igual - Ep. 33', 0.22985415160655975),\n",
       " ('Aqui Portugal: Pombal (Manhã)', 0.22512836754322052),\n",
       " ('Alguém Tem De O Fazer T1 - Ep. 11', 0.22438804805278778),\n",
       " ('Grandiosa Enciclopédia Do Ludopédio T10 - Ep. 4', 0.21192528307437897),\n",
       " ('Jornal da Tarde', 0.206189826130867),\n",
       " ('O Conto Do Nadador', 0.15764163434505463),\n",
       " ('Bom Dia Portugal Fim de Semana', 0.1496964544057846),\n",
       " ('The Voice Portugal T12 - Ep. 2', 0.14456506073474884),\n",
       " ('Nunca Nada Aconteceu', 0.1305476725101471),\n",
       " ('Portugal em Direto', 0.08079494535923004),\n",
       " ('Joker T8 - Ep. 70', 0.08010594546794891),\n",
       " ('Joker T8 - Ep. 68', 0.07616651058197021),\n",
       " ('Amor Sem Igual - Ep. 34', 0.07053452730178833),\n",
       " ('Eucaristia Dominical', 0.07053224742412567),\n",
       " ('Outras Histórias T6 - Ep. 12', 0.07040758430957794),\n",
       " ('Amor Sem Igual - Ep. 35', 0.07036124169826508),\n",
       " ('Outras Histórias T6 - Ep. 13', 0.07020442187786102),\n",
       " ('Do Algarve À Lapónia - Ep. 12', 0.06985567510128021),\n",
       " ('Hora Da Sorte - Lotaria Clássica - Ep. 40', 0.06968672573566437),\n",
       " ('Janela Indiscreta T16 - Ep. 40', 0.06968553364276886),\n",
       " ('Joker T8 - Ep. 71', 0.06958924233913422),\n",
       " ('Amor Sem Igual - Ep. 32', 0.06948503851890564),\n",
       " ('Praça da Alegria', 0.06937593221664429),\n",
       " ('Nena E Joana Almeirante - Hipódromo Manuel Possolo Em Cascais',\n",
       "  0.0693502277135849),\n",
       " ('Delfins - 40 Anos', 0.06856788694858551),\n",
       " ('Alguém Tem De O Fazer T1 - Ep. 12', 0.06856788694858551),\n",
       " ('Linha da Frente: Serviço Internacional de Saúde', 0.06856788694858551),\n",
       " ('O Preço Certo', 0.06856788694858551),\n",
       " ('A Nossa Tarde', 0.06856788694858551),\n",
       " ('Hora Da Sorte - Lotaria Popular - Ep. 40', 0.06856788694858551),\n",
       " ('Televendas', 0.06856788694858551),\n",
       " ('Dillaz: Festival F 2024', 0.06856788694858551),\n",
       " ('Cá Por Casa com Herman José T11 - Ep. 2', 0.06856788694858551),\n",
       " ('Terra Europa T1 - Ep. 48', 0.06856788694858551),\n",
       " ('É Ou Não É? - O Grande Debate', 0.06856788694858551),\n",
       " ('Joker T8 - Ep. 69', 0.06856788694858551),\n",
       " ('A Essência T10 - Ep. 24', 0.06856788694858551),\n",
       " ('Janela Indiscreta T16 - Ep. 39', 0.06856788694858551),\n",
       " ('The Voice Portugal - Os Apurados T12 - Ep. 1', 0.06856788694858551),\n",
       " ('Aqui Portugal: Pombal (Tarde)', 0.06856788694858551),\n",
       " ('Zig Zag', 0.06856788694858551),\n",
       " ('Todas as Palavras', 0.06856788694858551),\n",
       " ('Caixa Alfama: Concerto de Buba Espinho', 0.06856788694858551)]"
      ]
     },
     "execution_count": 10,
     "metadata": {},
     "output_type": "execute_result"
    }
   ],
   "source": [
    "predictions = [(program, predict(model, david_id, df.columns.get_loc(program), device)) for program in df.columns]\n",
    "predictions.sort(key=lambda x: x[1], reverse=True)\n",
    "predictions"
   ]
  }
 ],
 "metadata": {
  "kernelspec": {
   "display_name": "main",
   "language": "python",
   "name": "python3"
  },
  "language_info": {
   "codemirror_mode": {
    "name": "ipython",
    "version": 3
   },
   "file_extension": ".py",
   "mimetype": "text/x-python",
   "name": "python",
   "nbconvert_exporter": "python",
   "pygments_lexer": "ipython3",
   "version": "3.12.2"
  }
 },
 "nbformat": 4,
 "nbformat_minor": 2
}
